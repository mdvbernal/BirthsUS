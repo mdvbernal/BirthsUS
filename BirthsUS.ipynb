{
 "cells": [
  {
   "cell_type": "markdown",
   "metadata": {},
   "source": [
    "# Births in the US\n",
    "\n",
    "We will explore the data set compiled by FiveThirtyEight, as an exercise to get familiar with the data through simple code."
   ]
  },
  {
   "cell_type": "markdown",
   "metadata": {},
   "source": [
    " - First lest read the CSV file \"US_births_1994-2003_CDC_NCHS.csv\" into a string.\n",
    " - Split the string on the newline character (\"\\n\").\n",
    " - Display the first 10 values in the resulting list."
   ]
  },
  {
   "cell_type": "code",
   "execution_count": 1,
   "metadata": {},
   "outputs": [],
   "source": [
    "f = open(\"US_births_1994-2003_CDC_NCHS.csv\",'r') # r parameter mean open for reading\n",
    "US_Births_read = f.read() #method .read(n) just read the file given, if there is a parameter it will read n characters\n",
    "US_births = US_Births_read.split(\"\\n\")#split by new line. method .split()"
   ]
  },
  {
   "cell_type": "code",
   "execution_count": 2,
   "metadata": {},
   "outputs": [
    {
     "data": {
      "text/plain": [
       "['year,month,date_of_month,day_of_week,births',\n",
       " '1994,1,1,6,8096',\n",
       " '1994,1,2,7,7772',\n",
       " '1994,1,3,1,10142',\n",
       " '1994,1,4,2,11248',\n",
       " '1994,1,5,3,11053',\n",
       " '1994,1,6,4,11406',\n",
       " '1994,1,7,5,11251',\n",
       " '1994,1,8,6,8653',\n",
       " '1994,1,9,7,7910']"
      ]
     },
     "execution_count": 2,
     "metadata": {},
     "output_type": "execute_result"
    }
   ],
   "source": [
    "US_births[0:10]"
   ]
  },
  {
   "cell_type": "markdown",
   "metadata": {},
   "source": [
    "\n",
    "Next we build a function call read_csv that reads a csv file, and creates a list of list with it."
   ]
  },
  {
   "cell_type": "code",
   "execution_count": 3,
   "metadata": {},
   "outputs": [
    {
     "data": {
      "text/plain": [
       "[[1994, 1, 1, 6, 8096],\n",
       " [1994, 1, 2, 7, 7772],\n",
       " [1994, 1, 3, 1, 10142],\n",
       " [1994, 1, 4, 2, 11248],\n",
       " [1994, 1, 5, 3, 11053],\n",
       " [1994, 1, 6, 4, 11406],\n",
       " [1994, 1, 7, 5, 11251],\n",
       " [1994, 1, 8, 6, 8653],\n",
       " [1994, 1, 9, 7, 7910],\n",
       " [1994, 1, 10, 1, 10498]]"
      ]
     },
     "execution_count": 3,
     "metadata": {},
     "output_type": "execute_result"
    }
   ],
   "source": [
    "def read_csv(input_file):\n",
    "    f = open(input_file)\n",
    "    string_read = f.read()\n",
    "    string_list1 = string_read.split(\"\\n\")\n",
    "    string_list = string_list1[1:len(string_list1)]\n",
    "    final_list = []\n",
    "    for item1 in string_list: #first loop to iterate through lines\n",
    "        int_fields = []\n",
    "        string_fields = item1.split(',')\n",
    "        for item2 in string_fields: #second loop to interate elements inside each line\n",
    "            integer = int(item2)\n",
    "            int_fields.append(integer) # append each line item\n",
    "        final_list.append(int_fields)\n",
    "    return final_list\n",
    "cdc_list = read_csv(\"US_births_1994-2003_CDC_NCHS.csv\")\n",
    "cdc_list[0:10]"
   ]
  },
  {
   "cell_type": "markdown",
   "metadata": {},
   "source": [
    "The following function \"month_births\" will create a dictionary, where births per months will be shown."
   ]
  },
  {
   "cell_type": "code",
   "execution_count": 4,
   "metadata": {},
   "outputs": [
    {
     "data": {
      "text/plain": [
       "{1: 3232517,\n",
       " 2: 3018140,\n",
       " 3: 3322069,\n",
       " 4: 3185314,\n",
       " 5: 3350907,\n",
       " 6: 3296530,\n",
       " 7: 3498783,\n",
       " 8: 3525858,\n",
       " 9: 3439698,\n",
       " 10: 3378814,\n",
       " 11: 3171647,\n",
       " 12: 3301860}"
      ]
     },
     "execution_count": 4,
     "metadata": {},
     "output_type": "execute_result"
    }
   ],
   "source": [
    "def month_births(list_of_lists): # function take a list of list as argument\n",
    "    births_per_month = dict() # Empy dictionary\n",
    "    for item in list_of_lists: # looping trough every line of the list\n",
    "        month = item[1] # index 1 show the month of birht\n",
    "        births = item[4] # index 2 show the number of births\n",
    "        if month in births_per_month:\n",
    "            births_per_month[month] = births_per_month[month]+births\n",
    "        else:\n",
    "            births_per_month[month] = births\n",
    "    return births_per_month\n",
    "cdc_month_births = month_births(cdc_list)\n",
    "cdc_month_births"
   ]
  },
  {
   "cell_type": "markdown",
   "metadata": {},
   "source": [
    "Now the focus is to create a dictionary where we can store the number of births per day of the week, with help of a funcion dow_births:"
   ]
  },
  {
   "cell_type": "code",
   "execution_count": 5,
   "metadata": {},
   "outputs": [
    {
     "data": {
      "text/plain": [
       "{1: 5789166,\n",
       " 2: 6446196,\n",
       " 3: 6322855,\n",
       " 4: 6288429,\n",
       " 5: 6233657,\n",
       " 6: 4562111,\n",
       " 7: 4079723}"
      ]
     },
     "execution_count": 5,
     "metadata": {},
     "output_type": "execute_result"
    }
   ],
   "source": [
    "def dow_births(list_lists):\n",
    "    births_per_day = dict() # declare an empty list.\n",
    "    for item in list_lists: \n",
    "        dow = item[3] # index for say of the week.\n",
    "        births = item[4] # index for number of birhs.\n",
    "        if dow in births_per_day:\n",
    "            births_per_day[dow] = births_per_day[dow]+births # aggregating birhts per day.\n",
    "        else:\n",
    "            births_per_day[dow] = births\n",
    "    return births_per_day\n",
    "cdc_day_births = dow_births(cdc_list)\n",
    "cdc_day_births"
   ]
  },
  {
   "cell_type": "markdown",
   "metadata": {},
   "source": [
    "Due to the obvious similarity of the previous functions, we will build a more complete function calc_counts, that takes two arguments our data (list of list)  and the column (index, since we do not have yet learnt a way to call columns by name, which will be done in the future with pandas) thus will aggregate number of births per column (year, month, day of the month, day of the week). "
   ]
  },
  {
   "cell_type": "code",
   "execution_count": 6,
   "metadata": {},
   "outputs": [],
   "source": [
    "def calc_counts(data,column):\n",
    "    num_births = dict()\n",
    "    for item in data:\n",
    "        aux = item[column]\n",
    "        births = item[4]\n",
    "        if aux in num_births:\n",
    "            num_births[aux] = num_births[aux] + births\n",
    "        else:\n",
    "            num_births[aux] = births\n",
    "    return num_births\n",
    "cdc_year_births = calc_counts(cdc_list,0)\n",
    "cdc_month_births = calc_counts(cdc_list,1)\n",
    "cdc_dom_births = calc_counts(cdc_list,2)\n",
    "cdc_dow_births = calc_counts(cdc_list,3)"
   ]
  },
  {
   "cell_type": "code",
   "execution_count": 7,
   "metadata": {},
   "outputs": [
    {
     "data": {
      "text/plain": [
       "{1994: 3952767,\n",
       " 1995: 3899589,\n",
       " 1996: 3891494,\n",
       " 1997: 3880894,\n",
       " 1998: 3941553,\n",
       " 1999: 3959417,\n",
       " 2000: 4058814,\n",
       " 2001: 4025933,\n",
       " 2002: 4021726,\n",
       " 2003: 4089950}"
      ]
     },
     "execution_count": 7,
     "metadata": {},
     "output_type": "execute_result"
    }
   ],
   "source": [
    "cdc_year_births"
   ]
  },
  {
   "cell_type": "markdown",
   "metadata": {},
   "source": [
    "Function that can calculate max and min values for any dictionary that is passed in."
   ]
  },
  {
   "cell_type": "code",
   "execution_count": 8,
   "metadata": {},
   "outputs": [],
   "source": [
    "def max_min(dictionary):\n",
    "    return max(dictionary.items()), min(dictionary.items())"
   ]
  },
  {
   "cell_type": "code",
   "execution_count": 9,
   "metadata": {},
   "outputs": [
    {
     "data": {
      "text/plain": [
       "((2003, 4089950), (1994, 3952767))"
      ]
     },
     "execution_count": 9,
     "metadata": {},
     "output_type": "execute_result"
    }
   ],
   "source": [
    "max_min(cdc_year_births)"
   ]
  },
  {
   "cell_type": "markdown",
   "metadata": {},
   "source": [
    "Function that extracts the same values across years and calculates the differences between consecutive values to show if number of births is increasing or decreasing."
   ]
  },
  {
   "cell_type": "code",
   "execution_count": 10,
   "metadata": {},
   "outputs": [],
   "source": [
    "def year_diff(year2, year1):\n",
    "    return cdc_year_births[year2] - cdc_year_births[year1]"
   ]
  },
  {
   "cell_type": "code",
   "execution_count": 11,
   "metadata": {},
   "outputs": [
    {
     "data": {
      "text/plain": [
       "68959"
      ]
     },
     "execution_count": 11,
     "metadata": {},
     "output_type": "execute_result"
    }
   ],
   "source": [
    "year_diff(2002,1994)"
   ]
  }
 ],
 "metadata": {
  "anaconda-cloud": {},
  "kernelspec": {
   "display_name": "Python 3",
   "language": "python",
   "name": "python3"
  },
  "language_info": {
   "codemirror_mode": {
    "name": "ipython",
    "version": 3
   },
   "file_extension": ".py",
   "mimetype": "text/x-python",
   "name": "python",
   "nbconvert_exporter": "python",
   "pygments_lexer": "ipython3",
   "version": "3.6.4"
  }
 },
 "nbformat": 4,
 "nbformat_minor": 1
}
